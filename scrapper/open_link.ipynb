{
 "cells": [
  {
   "cell_type": "code",
   "execution_count": null,
   "metadata": {},
   "outputs": [],
   "source": [
    "from selenium.webdriver.common.keys import Keys\n",
    "from selenium import webdriver\n",
    "\n",
    "\n",
    "driver = webdriver.Chrome()\n",
    "\n",
    "# Enter your login credentials and submit the form\n",
    "def login_snow ():\n",
    "    page = driver.find_element_by_id(\"user_name\")\n",
    "    page.send_keys(\"your_username\")\n",
    "    page = driver.find_element_by_id(\"user_password\")\n",
    "    page.send_keys(\"your_password\")\n",
    "    page.send_keys(Keys.RETURN)\n",
    "\n"
   ]
  }
 ],
 "metadata": {
  "kernelspec": {
   "display_name": "Python 3",
   "language": "python",
   "name": "python3"
  },
  "language_info": {
   "name": "python",
   "version": "3.12.0"
  }
 },
 "nbformat": 4,
 "nbformat_minor": 2
}
