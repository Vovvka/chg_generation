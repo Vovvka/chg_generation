{
 "cells": [
  {
   "cell_type": "code",
   "execution_count": 1,
   "metadata": {},
   "outputs": [],
   "source": [
    "from selenium import webdriver\n",
    "from selenium.webdriver.common.by import By\n",
    "from selenium.webdriver.support.ui import WebDriverWait\n",
    "from selenium.webdriver.support import expected_conditions as EC\n",
    "\n",
    "\n",
    "def openlink (username, password):\n",
    "    driver = webdriver.Chrome()\n",
    "\n",
    "    driver.get(\"https://umusic.service-now.com/now/nav/ui/classic/params/target/home.do\")\n",
    "\n",
    "    driver.find_element(By.ID, \"email_input\").send_keys(username)\n",
    "    driver.find_element(By.ID, \"password_input\").send_keys(password)\n",
    "    \n",
    "    wait = WebDriverWait(driver, 10) \n",
    "    change_requests_link = wait.until(EC.element_to_be_clickable((By.LINK_TEXT, \"Change Requests\")))\n",
    "\n",
    "    change_requests_link.click()\n",
    "\n",
    "    # Navigate to Standard\n",
    "    wait.until(EC.element_to_be_clickable((By.LINK_TEXT, \"Standard\"))).click()\n",
    "\n",
    "    # Navigate to Patching Standard Changes\n",
    "    wait.until(EC.element_to_be_clickable((By.LINK_TEXT, \"Patching Standard Changes\"))).click()\n",
    "\n",
    "\n",
    "\n",
    "if __name__ == \"__main__\":\n",
    "        \n",
    "    with open(r'\\creds.txt', 'r', encoding='utf-8') as file:\n",
    "    # Read the lines\n",
    "        lines = file.readlines()\n",
    "\n",
    "    username = lines[0].strip() if len(lines) > 0 else ''\n",
    "    password = lines[1].strip() if len(lines) > 1 else ''\n",
    "\n",
    "\n",
    "    openlink ()"
   ]
  }
 ],
 "metadata": {
  "kernelspec": {
   "display_name": "Python 3",
   "language": "python",
   "name": "python3"
  },
  "language_info": {
   "codemirror_mode": {
    "name": "ipython",
    "version": 3
   },
   "file_extension": ".py",
   "mimetype": "text/x-python",
   "name": "python",
   "nbconvert_exporter": "python",
   "pygments_lexer": "ipython3",
   "version": "3.12.0"
  }
 },
 "nbformat": 4,
 "nbformat_minor": 2
}
