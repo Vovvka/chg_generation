{
  "metadata": {
    "kernelspec": {
      "name": "python",
      "display_name": "Python (Pyodide)",
      "language": "python"
    },
    "language_info": {
      "codemirror_mode": {
        "name": "python",
        "version": 3
      },
      "file_extension": ".py",
      "mimetype": "text/x-python",
      "name": "python",
      "nbconvert_exporter": "python",
      "pygments_lexer": "ipython3",
      "version": "3.8"
    }
  },
  "nbformat_minor": 4,
  "nbformat": 4,
  "cells": [
    {
      "cell_type": "code",
      "source": "from datetime import datetime, timedelta\n\ndef get_date_range(start_description, start_time, duration_hours):\n    \n    print(\"Received Input:\")\n    print(f\"Start Description: {start_description}\")\n    print(f\"Start Time: {start_time}\")\n    print(f\"Duration (hours): {duration_hours}\")\n\n    # Extracting day and time from the start time string\n    time_parts = start_time.split(', ')\n    specified_time = time_parts[0]\n    specified_day = time_parts[1]\n\n    # Convert the specified time to 24-hour format\n    start_time_24h = datetime.strptime(specified_time, \"%I%p\").strftime(\"%H:%M\")\n\n    current_date = datetime.now()\n    \n    first_day_of_month = current_date.replace(day=1)\n    first_tuesday = first_day_of_month + timedelta(days=(1 - first_day_of_month.weekday()) % 7)\n    \n    # Finding the next Monday after the first Tuesday (Patch Tuesday)\n    patch_tuesday = first_tuesday + timedelta(days=6)\n    next_monday = patch_tuesday + timedelta(days=(7 - patch_tuesday.weekday()) % 7)\n\n    day_names = ['Monday', 'Tuesday', 'Wednesday', 'Thursday', 'Friday', 'Saturday', 'Sunday']\n    day_indices = {day: index for index, day in enumerate(day_names)}\n\n    description_parts = start_description.split()\n\n    # Parsing logic for different descriptions\n    if 'after' in description_parts:\n        after_index = description_parts.index('after')\n        \n        if description_parts[0] == '0':\n            start_day_index = day_indices[specified_day.capitalize()] - next_monday.weekday()\n        else:\n            # Extracting the week offset\n            week_offset = int(description_parts[0][:-2])  # Extracting the numeric value from the description (e.g., 1st, 2nd)\n            \n            # Calculate the starting day index within the desired week after Patch Tuesday\n            start_day_index = (day_indices[specified_day.capitalize()] - next_monday.weekday() + 7) % 7\n            \n            # Adjust to the specified week within the month\n            start_day_index += week_offset * 7  # Multiply week offset by 7 for the correct number of days\n            \n            # Adjust if the start_day_index is negative\n            if start_day_index < 0:\n                start_day_index += 7\n\n    print(\"\\nParsed Information:\")\n    print(f\"Start Day Index: {start_day_index}\")\n\n    start_date = next_monday + timedelta(days=start_day_index)\n    start_datetime = datetime.strptime(f\"{start_date.date()} {start_time_24h}\", \"%Y-%m-%d %H:%M\")\n    end_datetime = start_datetime + timedelta(hours=duration_hours)\n\n    print(\"\\nFinal Calculated Dates:\")\n    print(f\"Start Date: {start_datetime.strftime('%Y-%m-%d %H:%M')}\")\n    print(f\"End Date: {end_datetime.strftime('%Y-%m-%d %H:%M')}\")\n\n    return start_datetime.strftime(\"%Y-%m-%d %H:%M\"), end_datetime.strftime(\"%Y-%m-%d %H:%M\")\n\n# Example usage:\nstart_description = '1st week after Patch Tuesday'\nstart_time = '6PM, Saturday'\nduration_hours = 6\n\nstart_date_formatted, end_date_formatted = get_date_range(start_description, start_time, duration_hours)\nif start_date_formatted and end_date_formatted:\n    print(\"\\nFinal Output:\")\n    print(f\"Start Date: {start_date_formatted}\")\n    print(f\"End Date: {end_date_formatted}\")\n",
      "metadata": {
        "trusted": true
      },
      "outputs": [
        {
          "name": "stdout",
          "text": "Received Input:\nStart Description: 1st week after Patch Tuesday\nStart Time: 6PM, Saturday\nDuration (hours): 6\n\nParsed Information:\nStart Day Index: 12\n\nFinal Calculated Dates:\nStart Date: 2024-01-20 18:00\nEnd Date: 2024-01-21 00:00\n\nFinal Output:\nStart Date: 2024-01-20 18:00\nEnd Date: 2024-01-21 00:00\n",
          "output_type": "stream"
        }
      ],
      "execution_count": 1
    },
    {
      "cell_type": "code",
      "source": "from datetime import datetime, timedelta\nfrom dateutil.relativedelta import relativedelta\n\n# Example usage:\nstart_description = '3rd week After Patch Tuesday'\nstart_time = '6PM, Sunday'\nduration_hours = 6\n\ndef get_date_range(start_description, start_time, duration_hours):\n    print(\"Received Input:\")\n    print(f\"Start Description: {start_description}\")\n    print(f\"Start Time: {start_time}\")\n    print(f\"Duration (hours): {duration_hours}\")\n\n    description_parts = start_description.split()\n    \n    time_parts = start_time.split(', ')\n    specified_time = time_parts[0]\n    specified_day = time_parts[1]\n\n    start_time_24h = datetime.strptime(specified_time, \"%I%p\").strftime(\"%H:%M\")\n\n    current_date = datetime.now()\n\n    # Finding the next Monday after the first Tuesday (Patch Tuesday)\n    first_day_of_month = current_date.replace(day=1)\n    first_tuesday = first_day_of_month + timedelta(days=(1 - first_day_of_month.weekday()) % 7)\n    patch_tuesday = first_tuesday + timedelta(days=6)\n    next_monday = patch_tuesday + timedelta(days=(7 - patch_tuesday.weekday()) % 7)\n        \n    day_names = ['Monday', 'Tuesday', 'Wednesday', 'Thursday', 'Friday', 'Saturday', 'Sunday']\n    day_indices = {day: index for index, day in enumerate(day_names)}\n    \n    start_datetime = None\n    end_datetime = None\n\n    if 'next'.lower() in ' '.join(description_parts).lower():\n        \n        print(\"Executing 'Next Month' logic...\")\n        # Extracting the month\n        current_date = current_date.replace(day=1) + relativedelta(months=1)\n        \n        # Extracting numeric value for weekday selection (1st, 2nd, 3rd, 4th)\n        weekday_selection = int(start_description.split()[0][:-len(\"th\")])\n        \n        # Calculating the selected weekday of the next month\n        first_day_of_next_month = current_date.replace(day=1)\n        selected_weekday = day_indices[specified_day.capitalize()]\n        current_weekday = first_day_of_next_month.weekday()\n        diff = (selected_weekday - current_weekday) % 7\n        start_date = first_day_of_next_month + timedelta(days=diff + 7 * (weekday_selection - 1))\n\n        # Constructing start date and time\n        start_datetime = datetime.strptime(f\"{start_date.date()} {start_time_24h}\", \"%Y-%m-%d %H:%M\")\n        end_datetime = start_datetime + timedelta(hours=duration_hours)\n\n        print(\"\\nFinal Calculated Dates:\")\n        print(f\"Start Date: {start_datetime.strftime('%Y-%m-%d %H:%M')}\")\n        print(f\"End Date: {end_datetime.strftime('%Y-%m-%d %H:%M')}\")\n\n        return start_datetime.strftime(\"%Y-%m-%d %H:%M\"), end_datetime.strftime(\"%Y-%m-%d %H:%M\")\n        \n    elif 'after'.lower() in ' '.join(description_parts).lower():\n\n        print(\"Executing 'after Patch Tuesday' logic...\")\n        if description_parts[0] == '0':\n            start_day_index = day_indices[specified_day.capitalize()] - next_monday.weekday()\n        else:\n            # Extracting the week offset\n            week_offset = int(description_parts[0][:-2])\n            # Calculate the starting day index within the desired week after Patch Tuesday\n            start_day_index = (day_indices[specified_day.capitalize()] - next_monday.weekday() + 7) % 7\n            # Adjust to the specified week within the month\n            start_day_index += week_offset * 7\n            # Adjust if the start_day_index is negative\n            if start_day_index < 0:\n                start_day_index += 7\n        \n        # Constructing start date and time\n        start_date = next_monday + timedelta(days=start_day_index)\n        start_datetime = datetime.strptime(f\"{start_date.date()} {start_time_24h}\", \"%Y-%m-%d %H:%M\")\n        end_datetime = start_datetime + timedelta(hours=duration_hours)\n\n        print(\"\\nFinal Calculated Dates:\")\n        print(f\"Start Date: {start_datetime.strftime('%Y-%m-%d %H:%M')}\")\n        print(f\"End Date: {end_datetime.strftime('%Y-%m-%d %H:%M')}\")\n\n        return start_datetime.strftime(\"%Y-%m-%d %H:%M\"), end_datetime.strftime(\"%Y-%m-%d %H:%M\")\n\n    else:\n        # Handle other cases or return an error message for unhandled cases\n        return \"Error: Invalid description\", \"\"\n\nstart_date_formatted, end_date_formatted = get_date_range(start_description, start_time, duration_hours)\nif start_date_formatted and end_date_formatted:\n    print(\"\\nFinal Output:\")\n    print(f\"Start Date: {start_date_formatted}\")\n    print(f\"End Date: {end_date_formatted}\")\n",
      "metadata": {
        "trusted": true
      },
      "outputs": [
        {
          "name": "stdout",
          "text": "Received Input:\nStart Description: 3rd week After Patch Tuesday\nStart Time: 6PM, Sunday\nDuration (hours): 6\nExecuting 'after Patch Tuesday' logic...\n\nFinal Calculated Dates:\nStart Date: 2024-02-04 18:00\nEnd Date: 2024-02-05 00:00\n\nFinal Output:\nStart Date: 2024-02-04 18:00\nEnd Date: 2024-02-05 00:00\n",
          "output_type": "stream"
        }
      ],
      "execution_count": 2
    },
    {
      "cell_type": "code",
      "source": "after patch tuesday with next month working version",
      "metadata": {
        "trusted": true
      },
      "outputs": [],
      "execution_count": null
    }
  ]
}