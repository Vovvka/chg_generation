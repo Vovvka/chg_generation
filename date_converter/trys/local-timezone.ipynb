{
 "cells": [
  {
   "cell_type": "code",
   "execution_count": 11,
   "metadata": {},
   "outputs": [
    {
     "name": "stdout",
     "output_type": "stream",
     "text": [
      "Found timezone for collection 'AWS34 Brazil PROD': Etc/GMT-3\n"
     ]
    },
    {
     "data": {
      "text/plain": [
       "'Etc/GMT-3'"
      ]
     },
     "execution_count": 11,
     "metadata": {},
     "output_type": "execute_result"
    }
   ],
   "source": [
    "from datetime import datetime, timedelta\n",
    "from dateutil.relativedelta import relativedelta\n",
    "import pytz\n",
    "\n",
    "target_timezone = 'Europe/London'\n",
    "collection = 'AWS34 Brazil PROD'\n",
    "start_timezone = 'Local Time'\n",
    "\n",
    "\n",
    "def get_pytz_timezone(start_timezone, collection):\n",
    "    # Mapping friendly time zone names to pytz time zone names\n",
    "    timezone_mapping = {\n",
    "        'argentina': 'America/Argentina/Buenos_Aires',\n",
    "        'pst': 'America/Los_Angeles',\n",
    "        'pdt': 'America/Los_Angeles',\n",
    "        'pst/pdt': 'America/Los_Angeles',\n",
    "        'PST': 'America/Los_Angeles',\n",
    "        'PST/PDT': 'America/Los_Angeles',\n",
    "        'CT(US&Canada)': 'US/Central',\n",
    "        'Central Time(US)': 'US/Central',\n",
    "        'ET(US&Canada)': 'US/Eastern',\n",
    "        'CET': 'Europe/Berlin',\n",
    "        'CET/CEST': 'Europe/Berlin',\n",
    "        'cet/cest': 'Europe/Berlin',\n",
    "        'cet': 'Europe/Berlin',\n",
    "        'chile': 'America/Santiago',\n",
    "        'bst/gmt': 'Europe/London',\n",
    "        'bst': 'Europe/London',\n",
    "        'BST': 'Europe/London',\n",
    "        'GMT': 'Europe/London',\n",
    "        'BST/GMT': 'Europe/London',\n",
    "        'colombia': 'America/Bogota',\n",
    "        'Central Time(US)': 'US/Central',\n",
    "        'AEST': 'Australia/Sydney',\n",
    "        'aest': 'Australia/Sydney',\n",
    "        'NZDT': 'NZ',\n",
    "        'JST': 'Japan',\n",
    "        'Brazil': 'Etc/GMT-3',\n",
    "        'Brussels': 'Etc/GMT+1',\n",
    "        'Dublin': 'Europe/Dublin',\n",
    "        'France': 'Europe/Paris',\n",
    "        'India': '',\n",
    "        'Argentina': 'America/Argentina/Buenos_Aires',\n",
    "        'Colombia': 'Etc/GMT-5',\n",
    "        'Mexico': 'Etc/GMT-6',\n",
    "        'Spain': 'Etc/GMT+1',\n",
    "        'China': 'Etc/GMT+8',\n",
    "        'Greece': 'Etc/GMT+2',\n",
    "        'Portugal': 'Etc/GMT',\n",
    "        'Taiwan': 'Etc/GMT+8',\n",
    "        'UK': 'Europe/London',\n",
    "        # add\n",
    "    }\n",
    "\n",
    "    if start_timezone.lower() == 'local time':\n",
    "        # Split the collection name and look for location names\n",
    "        for word in collection.split():\n",
    "            pytz_timezone = timezone_mapping.get(word)\n",
    "            if pytz_timezone:\n",
    "                print(f\"Found timezone for collection '{collection}': {pytz_timezone}\")\n",
    "                return pytz_timezone\n",
    "        # If no timezone found for any word in the collection name, use default timezone\n",
    "        print(f\"No timezone found in collection '{collection}', using default timezone\")\n",
    "        return 'UTC'  # Change 'UTC' to your default timezone\n",
    "    else:\n",
    "        pytz_timezone = timezone_mapping.get(start_timezone.strip())\n",
    "        if pytz_timezone:\n",
    "            print(f\"Found timezone: {pytz_timezone}\")\n",
    "            return pytz_timezone\n",
    "        else:\n",
    "            raise ValueError(f\"No timezone found for '{start_timezone}'\")\n",
    "\n",
    "get_pytz_timezone(start_timezone, collection)\n"
   ]
  }
 ],
 "metadata": {
  "kernelspec": {
   "display_name": "Python 3",
   "language": "python",
   "name": "python3"
  },
  "language_info": {
   "codemirror_mode": {
    "name": "ipython",
    "version": 3
   },
   "file_extension": ".py",
   "mimetype": "text/x-python",
   "name": "python",
   "nbconvert_exporter": "python",
   "pygments_lexer": "ipython3",
   "version": "3.12.0"
  }
 },
 "nbformat": 4,
 "nbformat_minor": 2
}
