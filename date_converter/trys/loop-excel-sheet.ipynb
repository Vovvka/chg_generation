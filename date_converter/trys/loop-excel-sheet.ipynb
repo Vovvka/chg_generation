{
 "cells": [
  {
   "cell_type": "code",
   "execution_count": 13,
   "metadata": {},
   "outputs": [
    {
     "name": "stdout",
     "output_type": "stream",
     "text": [
      "start_description: 3rd Monday of the month\n",
      "Start Time: 1PM\n",
      "Time Zone: PST/PDT\n",
      "duration_hours: 4\n",
      "\n",
      "start_description: 3rd Sunday of the month\n",
      "Start Time: 12AM\n",
      "Time Zone: PST/PDT\n",
      "duration_hours: 6\n",
      "\n",
      "start_description: Last Day\n",
      "Start Time: 4AM\n",
      "Time Zone: CET/CEST\n",
      "duration_hours: 2\n",
      "\n",
      "start_description: 3rd Saturday of the month\n",
      "Start Time: 1AM \n",
      "Time Zone: bst\n",
      "duration_hours: 5\n",
      "\n"
     ]
    }
   ],
   "source": [
    "import openpyxl\n",
    "\n",
    "def read_excel_data(file_path, start_row, end_row):\n",
    "    try:\n",
    "        # Load the workbook\n",
    "        workbook = openpyxl.load_workbook(file_path)\n",
    "        \n",
    "        # Select the active sheet (you can modify this if you want a specific sheet)\n",
    "        sheet = workbook.active\n",
    "\n",
    "        # Check if the specified row exists\n",
    "        if row_num <= 0 or row_num > sheet.max_row:\n",
    "            print(f\"Row {row_num} does not exist in the sheet.\")\n",
    "            return\n",
    "\n",
    "        # Get column indices for the specified columns\n",
    "        start_description_col = get_column_index(sheet, \"Description\")\n",
    "        start_time_col = get_column_index(sheet, \"Start Time\")\n",
    "        start_timezone_col = get_column_index(sheet, \"Time Zone\")\n",
    "        duration_hours_col = get_column_index(sheet, \"Duration\")\n",
    "\n",
    "        # Loop through rows within the specified range\n",
    "        for row_num in range(start_row, end_row + 1):\n",
    "            # Get data from specified columns in the current row\n",
    "            start_description = sheet.cell(row=row_num, column=start_description_col).value\n",
    "            start_time = sheet.cell(row=row_num, column=start_time_col).value\n",
    "            start_timezone = sheet.cell(row=row_num, column=start_timezone_col).value\n",
    "            duration_hours = sheet.cell(row=row_num, column=duration_hours_col).value\n",
    "            duration_hours = duration_hours.replace(\" hours\", \"\")\n",
    "\n",
    "            # Process the data (you can customize this part)\n",
    "            process_row_data(start_description, start_time, start_timezone, duration_hours)\n",
    "\n",
    "    except Exception as e:\n",
    "        print(f\"An error occurred: {e}\")\n",
    "\n",
    "def get_column_index(sheet, column_name):\n",
    "    # Get the column index based on the column name\n",
    "    for col_num in range(1, sheet.max_column + 1):\n",
    "        if sheet.cell(row=1, column=col_num).value == column_name:\n",
    "            return col_num\n",
    "    raise ValueError(f\"Column '{column_name}' not found in the sheet\")\n",
    "\n",
    "def process_row_data(start_description, start_time, start_timezone, duration_hours):\n",
    "    # Customize this function to handle/process the data from each row\n",
    "    print(\"start_description:\", start_description)\n",
    "    print(\"Start Time:\", start_time)\n",
    "    print(\"Time Zone:\", start_timezone)\n",
    "    print(\"duration_hours:\", duration_hours)\n",
    "    print(\"\")\n",
    "\n",
    "if __name__ == \"__main__\":\n",
    "    # Get user input for file path, start row, and end row\n",
    "    file_path = input(\"Enter the Excel file path\").strip('\\\"\\'')\n",
    "    start_row = int(input(\"Enter the start row: \"))\n",
    "    end_row = int(input(\"Enter the end row: \"))\n",
    "\n",
    "    # Call the function to read and process data\n",
    "    read_excel_data(file_path, start_row, end_row)\n"
   ]
  }
 ],
 "metadata": {
  "kernelspec": {
   "display_name": "Python 3",
   "language": "python",
   "name": "python3"
  },
  "language_info": {
   "codemirror_mode": {
    "name": "ipython",
    "version": 3
   },
   "file_extension": ".py",
   "mimetype": "text/x-python",
   "name": "python",
   "nbconvert_exporter": "python",
   "pygments_lexer": "ipython3",
   "version": "3.12.0"
  }
 },
 "nbformat": 4,
 "nbformat_minor": 2
}
