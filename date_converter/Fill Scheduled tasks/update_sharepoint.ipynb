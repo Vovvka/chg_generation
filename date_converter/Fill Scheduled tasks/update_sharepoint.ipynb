{
 "cells": [
  {
   "cell_type": "code",
   "execution_count": 1,
   "metadata": {},
   "outputs": [
    {
     "name": "stdout",
     "output_type": "stream",
     "text": [
      "Error accessing SharePoint file: 403 FORBIDDEN\n"
     ]
    }
   ],
   "source": [
    "from openpyxl import load_workbook\n",
    "import requests\n",
    "from requests.auth import HTTPBasicAuth\n",
    "\n",
    "# Read local file path from links file\n",
    "links_file_path = r'C:\\Users\\pelyu\\OneDrive\\Рабочий стол\\chg\\git\\linkspath.txt'\n",
    "with open(links_file_path, 'r', encoding='utf-8') as linksFile:\n",
    "    lines = linksFile.readlines()\n",
    "    localFilePath = lines[2].strip() if len(lines) > 2 else ''\n",
    "\n",
    "# Load local Excel workbook\n",
    "workbook = load_workbook(localFilePath, data_only=True)\n",
    "worksheet = workbook['All Tasks']\n",
    "\n",
    "# Read credentials from creds file\n",
    "creds_file_path = r'C:\\Users\\pelyu\\OneDrive\\Рабочий стол\\chg\\git\\creds.txt'\n",
    "with open(creds_file_path, 'r', encoding='utf-8') as credsFile:\n",
    "    lines = credsFile.readlines()\n",
    "    site_url = lines[0].strip() if len(lines) > 0 else ''\n",
    "    file_url = lines[1].strip() if len(lines) > 1 else ''\n",
    "    username = lines[2].strip() if len(lines) > 2 else ''\n",
    "    password = lines[3].strip() if len(lines) > 3 else ''\n",
    "\n",
    "# Authentication\n",
    "auth = HTTPBasicAuth(username, password)\n",
    "\n",
    "# Load SharePoint Excel workbook\n",
    "response = requests.get(file_url, auth=auth)\n",
    "if response.status_code == 200:\n",
    "    sharepoint_wb = load_workbook(filename=response.text, data_only=True)\n",
    "    sharepoint_sheet = sharepoint_wb.active\n",
    "\n",
    "    # Update SharePoint Excel with local data\n",
    "    for row in range(1, worksheet.max_row + 1):\n",
    "        for col in range(1, worksheet.max_column + 1):\n",
    "            sharepoint_sheet.cell(row=row, column=col).value = worksheet.cell(row=row, column=col).value\n",
    "\n",
    "    # Save changes to SharePoint Excel\n",
    "    sharepoint_wb.save(response.text)\n",
    "    print('Data synchronized with SharePoint successfully.')\n",
    "else:\n",
    "    print('Error accessing SharePoint file:', response.text)\n"
   ]
  }
 ],
 "metadata": {
  "kernelspec": {
   "display_name": "Python 3",
   "language": "python",
   "name": "python3"
  },
  "language_info": {
   "codemirror_mode": {
    "name": "ipython",
    "version": 3
   },
   "file_extension": ".py",
   "mimetype": "text/x-python",
   "name": "python",
   "nbconvert_exporter": "python",
   "pygments_lexer": "ipython3",
   "version": "3.12.0"
  }
 },
 "nbformat": 4,
 "nbformat_minor": 2
}
