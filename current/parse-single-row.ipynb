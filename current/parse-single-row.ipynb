{
 "cells": [
  {
   "cell_type": "code",
   "execution_count": 3,
   "metadata": {},
   "outputs": [
    {
     "name": "stdout",
     "output_type": "stream",
     "text": [
      "Description: 3rd Sunday of the month\n",
      "Start Time: 12AM\n",
      "Time Zone: PST/PDT\n",
      "Duration: 6\n"
     ]
    }
   ],
   "source": [
    "import openpyxl\n",
    "\n",
    "def read_single_row(file_path, row_num):\n",
    "    try:\n",
    "        # Load the workbook\n",
    "        workbook = openpyxl.load_workbook(file_path)\n",
    "        \n",
    "        # Select the active sheet (you can modify this if you want a specific sheet)\n",
    "        sheet = workbook.active\n",
    "\n",
    "        # Get column indices for the specified columns\n",
    "        description_col = get_column_index(sheet, \"Description\")\n",
    "        start_time_col = get_column_index(sheet, \"Start Time\")\n",
    "        time_zone_col = get_column_index(sheet, \"Time Zone\")\n",
    "        duration_col = get_column_index(sheet, \"Duration\")\n",
    "\n",
    "        # Get data from specified columns in the chosen row\n",
    "        description = sheet.cell(row=row_num, column=description_col).value\n",
    "        start_time = sheet.cell(row=row_num, column=start_time_col).value\n",
    "        time_zone = sheet.cell(row=row_num, column=time_zone_col).value\n",
    "        duration = sheet.cell(row=row_num, column=duration_col).value\n",
    "        duration = duration.replace(\" hours\", \"\")\n",
    "\n",
    "        # Process the data (you can customize this part)\n",
    "        process_row_data(description, start_time, time_zone, duration)\n",
    "\n",
    "    except Exception as e:\n",
    "        print(f\"An error occurred: {e}\")\n",
    "\n",
    "def get_column_index(sheet, column_name):\n",
    "    # Get the column index based on the column name\n",
    "    for col_num in range(1, sheet.max_column + 1):\n",
    "        if sheet.cell(row=1, column=col_num).value == column_name:\n",
    "            return col_num\n",
    "    raise ValueError(f\"Column '{column_name}' not found in the sheet\")\n",
    "\n",
    "def process_row_data(description, start_time, time_zone, duration):\n",
    "    # Customize this function to handle/process the data from the chosen row\n",
    "    print(\"Description:\", description)\n",
    "    print(\"Start Time:\", start_time)\n",
    "    print(\"Time Zone:\", time_zone)\n",
    "    print(\"Duration:\", duration)\n",
    "\n",
    "if __name__ == \"__main__\":\n",
    "    # Get user input for file path and row number\n",
    "    file_path = input(\"Enter the Excel file path (with or without quotes): \").strip('\\\"\\'')\n",
    "    row_num = int(input(\"Enter the row number to grab data: \"))\n",
    "\n",
    "    # Call the function to read and process data for the chosen row\n",
    "    read_single_row(file_path, row_num)\n"
   ]
  },
  {
   "cell_type": "code",
   "execution_count": 3,
   "metadata": {},
   "outputs": [
    {
     "name": "stdout",
     "output_type": "stream",
     "text": [
      "Description: 3rd Sunday of the month\n",
      "Start Time: 12AM\n",
      "Time Zone: PST/PDT\n",
      "Duration: 6\n"
     ]
    }
   ],
   "source": [
    "import openpyxl\n",
    "\n",
    "def read_single_row(file_path, row_num):\n",
    "    try:\n",
    "        # Load the workbook\n",
    "        workbook = openpyxl.load_workbook(file_path)\n",
    "        \n",
    "        # Select the active sheet (you can modify this if you want a specific sheet)\n",
    "        sheet = workbook.active\n",
    "\n",
    "        def get_column_index(sheet, column_name):\n",
    "            # Get the column index based on the column name\n",
    "            for col_num in range(1, sheet.max_column + 1):\n",
    "                if sheet.cell(row=1, column=col_num).value == column_name:\n",
    "                    return col_num\n",
    "            raise ValueError(f\"Column '{column_name}' not found in the sheet\")\n",
    "\n",
    "        # Get column indices for the specified columns\n",
    "        description_col = get_column_index(sheet, \"Description\")\n",
    "        start_time_col = get_column_index(sheet, \"Start Time\")\n",
    "        time_zone_col = get_column_index(sheet, \"Time Zone\")\n",
    "        duration_col = get_column_index(sheet, \"Duration\")\n",
    "\n",
    "        # Get data from specified columns in the chosen row\n",
    "        start_description = sheet.cell(row=row_num, column=description_col).value\n",
    "        start_time = sheet.cell(row=row_num, column=start_time_col).value\n",
    "        start_timezone = sheet.cell(row=row_num, column=time_zone_col).value\n",
    "        duration = sheet.cell(row=row_num, column=duration_col).value\n",
    "        duration_hours = duration.replace(\" hours\", \"\")\n",
    "\n",
    "        # Process the data (you can customize this part)\n",
    "        process_row_data(start_description, start_time, start_timezone, duration_hours)\n",
    "\n",
    "    except Exception as e:\n",
    "        print(f\"An error occurred: {e}\")\n",
    "\n",
    "\n",
    "def process_row_data(start_description, start_time, start_timezone, duration_hours):\n",
    "    print(\"Description:\", start_description)\n",
    "    print(\"Start Time:\", start_time)\n",
    "    print(\"Time Zone:\", start_timezone)\n",
    "    print(\"Duration:\", duration_hours)\n",
    "\n",
    "if __name__ == \"__main__\":\n",
    "    # Get user input for file path and row number\n",
    "    file_path = input(\"Enter the Excel file path (with or without quotes): \").strip('\\\"\\'')\n",
    "    row_num = int(input(\"Enter the row number to grab data: \"))\n",
    "\n",
    "    # Call the function to read and process data for the chosen row\n",
    "    read_single_row(file_path, row_num)\n"
   ]
  }
 ],
 "metadata": {
  "kernelspec": {
   "display_name": "Python 3",
   "language": "python",
   "name": "python3"
  },
  "language_info": {
   "codemirror_mode": {
    "name": "ipython",
    "version": 3
   },
   "file_extension": ".py",
   "mimetype": "text/x-python",
   "name": "python",
   "nbconvert_exporter": "python",
   "pygments_lexer": "ipython3",
   "version": "3.9.6"
  }
 },
 "nbformat": 4,
 "nbformat_minor": 2
}
